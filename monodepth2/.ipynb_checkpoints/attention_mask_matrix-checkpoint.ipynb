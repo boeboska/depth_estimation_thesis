{
 "cells": [
  {
   "cell_type": "code",
   "execution_count": 48,
   "metadata": {},
   "outputs": [
    {
     "ename": "ModuleNotFoundError",
     "evalue": "No module named 'tqdm'",
     "output_type": "error",
     "traceback": [
      "\u001b[1;31m---------------------------------------------------------------------------\u001b[0m",
      "\u001b[1;31mModuleNotFoundError\u001b[0m                       Traceback (most recent call last)",
      "\u001b[1;32m<ipython-input-48-6c6c589d5697>\u001b[0m in \u001b[0;36m<module>\u001b[1;34m\u001b[0m\n\u001b[0;32m      5\u001b[0m \u001b[1;32mimport\u001b[0m \u001b[0mnumpy\u001b[0m \u001b[1;32mas\u001b[0m \u001b[0mnp\u001b[0m\u001b[1;33m\u001b[0m\u001b[1;33m\u001b[0m\u001b[0m\n\u001b[0;32m      6\u001b[0m \u001b[1;33m\u001b[0m\u001b[0m\n\u001b[1;32m----> 7\u001b[1;33m \u001b[1;32mfrom\u001b[0m \u001b[0mtqdm\u001b[0m \u001b[1;32mimport\u001b[0m \u001b[0mtqdm\u001b[0m\u001b[1;33m\u001b[0m\u001b[1;33m\u001b[0m\u001b[0m\n\u001b[0m\u001b[0;32m      8\u001b[0m \u001b[1;33m\u001b[0m\u001b[0m\n\u001b[0;32m      9\u001b[0m \u001b[1;32mimport\u001b[0m \u001b[0mtime\u001b[0m\u001b[1;33m\u001b[0m\u001b[1;33m\u001b[0m\u001b[0m\n",
      "\u001b[1;31mModuleNotFoundError\u001b[0m: No module named 'tqdm'"
     ]
    }
   ],
   "source": [
    "from datasets import KITTIRAWDataset\n",
    "import os\n",
    "import matplotlib.pyplot as plt\n",
    "import torch\n",
    "import numpy as np\n",
    "\n",
    "\n",
    "import time"
   ]
  },
  {
   "cell_type": "code",
   "execution_count": 2,
   "metadata": {},
   "outputs": [],
   "source": [
    "def readlines(path):\n",
    "    with open(path, 'r') as f:\n",
    "        return f.read().splitlines()"
   ]
  },
  {
   "cell_type": "code",
   "execution_count": 3,
   "metadata": {},
   "outputs": [],
   "source": [
    "dataset = KITTIRAWDataset(\n",
    "    attention_mask_loss=False, \n",
    "    edge_loss=True, \n",
    "    data_path='mini_kitti/kitti', \n",
    "    attention_path='mini_kitti/attention', \n",
    "    attention_threshold=0.7,\n",
    "    filenames=readlines(os.path.join('splits', 'short', 'train_files.txt')),\n",
    "    height=192,\n",
    "    width=640,\n",
    "    frame_idxs=[0, -1, 1],\n",
    "    num_scales=4,\n",
    "    img_ext='.png',\n",
    ")"
   ]
  },
  {
   "cell_type": "code",
   "execution_count": null,
   "metadata": {},
   "outputs": [],
   "source": []
  },
  {
   "cell_type": "code",
   "execution_count": 49,
   "metadata": {
    "scrolled": true
   },
   "outputs": [
    {
     "name": "stdout",
     "output_type": "stream",
     "text": [
      "tensor([[[ -1.,  -1.,  -1.,  ...,  -1.,  -1.,  -1.],\n",
      "         [ -1.,  -1.,  -1.,  ...,  -1.,  -1.,  -1.],\n",
      "         [ -1.,  -1.,  -1.,  ...,  -1.,  -1.,  -1.],\n",
      "         ...,\n",
      "         [ -1.,  -1.,  -1.,  ...,  -1.,  -1.,  -1.],\n",
      "         [ -1.,  -1.,  -1.,  ...,  -1.,  -1.,  -1.],\n",
      "         [ -1.,  -1.,  -1.,  ...,  -1.,  -1.,  -1.]],\n",
      "\n",
      "        [[ -2.,  -2.,  -2.,  ...,  -2.,  -2.,  -2.],\n",
      "         [ -2.,  -2.,  -2.,  ...,  -2.,  -2.,  -2.],\n",
      "         [ -2.,  -2.,  -2.,  ...,  -2.,  -2.,  -2.],\n",
      "         ...,\n",
      "         [ -2.,  -2.,  -2.,  ...,  -2.,  -2.,  -2.],\n",
      "         [ -2.,  -2.,  -2.,  ...,  -2.,  -2.,  -2.],\n",
      "         [ -2.,  -2.,  -2.,  ...,  -2.,  -2.,  -2.]],\n",
      "\n",
      "        [[ -3.,  -3.,  -3.,  ...,  -3.,  -3.,  -3.],\n",
      "         [ -3.,  -3.,  -3.,  ...,  -3.,  -3.,  -3.],\n",
      "         [ -3.,  -3.,  -3.,  ...,  -3.,  -3.,  -3.],\n",
      "         ...,\n",
      "         [ -3.,  -3.,  -3.,  ...,  -3.,  -3.,  -3.],\n",
      "         [ -3.,  -3.,  -3.,  ...,  -3.,  -3.,  -3.],\n",
      "         [ -3.,  -3.,  -3.,  ...,  -3.,  -3.,  -3.]],\n",
      "\n",
      "        ...,\n",
      "\n",
      "        [[-28., -28., -28.,  ..., -28., -28., -28.],\n",
      "         [-28., -28., -28.,  ..., -28., -28., -28.],\n",
      "         [-28., -28., -28.,  ..., -28., -28., -28.],\n",
      "         ...,\n",
      "         [-28., -28., -28.,  ..., -28., -28., -28.],\n",
      "         [-28., -28., -28.,  ..., -28., -28., -28.],\n",
      "         [-28., -28., -28.,  ..., -28., -28., -28.]],\n",
      "\n",
      "        [[-29., -29., -29.,  ..., -29., -29., -29.],\n",
      "         [-29., -29., -29.,  ..., -29., -29., -29.],\n",
      "         [-29., -29., -29.,  ..., -29., -29., -29.],\n",
      "         ...,\n",
      "         [-29., -29., -29.,  ..., -29., -29., -29.],\n",
      "         [-29., -29., -29.,  ..., -29., -29., -29.],\n",
      "         [-29., -29., -29.,  ..., -29., -29., -29.]],\n",
      "\n",
      "        [[-30., -30., -30.,  ..., -30., -30., -30.],\n",
      "         [-30., -30., -30.,  ..., -30., -30., -30.],\n",
      "         [-30., -30., -30.,  ..., -30., -30., -30.],\n",
      "         ...,\n",
      "         [-30., -30., -30.,  ..., -30., -30., -30.],\n",
      "         [-30., -30., -30.,  ..., -30., -30., -30.],\n",
      "         [-30., -30., -30.,  ..., -30., -30., -30.]]])\n"
     ]
    }
   ],
   "source": [
    "sample = dataset[0]\n",
    "attention_masks = sample['attention']\n",
    "\n",
    "attention_masks[attention_masks >= 0.8] = 1\n",
    "attention_masks[attention_masks < 0.8] = 0\n",
    "\n",
    "# make sure that all pixels outside the mask are not similar by giving them other value\n",
    "for a in range(attention_masks.shape[0]):\n",
    "    attention_masks[a][attention_masks[a] == 0] = -a-1\n",
    "    \n",
    "print(attention_masks)\n"
   ]
  },
  {
   "cell_type": "code",
   "execution_count": 244,
   "metadata": {},
   "outputs": [
    {
     "data": {
      "text/plain": [
       "<matplotlib.image.AxesImage at 0x1f7d4437308>"
      ]
     },
     "execution_count": 244,
     "metadata": {},
     "output_type": "execute_result"
    },
    {
     "data": {
      "image/png": "[encoded data removed]",
      "text/plain": [
       "<Figure size 432x288 with 1 Axes>"
      ]
     },
     "metadata": {
      "needs_background": "light"
     },
     "output_type": "display_data"
    }
   ],
   "source": [
    "plt.imshow(attention_masks[0].numpy())"
   ]
  },
  {
   "cell_type": "code",
   "execution_count": 245,
   "metadata": {},
   "outputs": [
    {
     "data": {
      "text/plain": [
       "<matplotlib.image.AxesImage at 0x1f7d4472188>"
      ]
     },
     "execution_count": 245,
     "metadata": {},
     "output_type": "execute_result"
    },
    {
     "data": {
      "image/png": "[encoded data removed]",
      "text/plain": [
       "<Figure size 432x288 with 1 Axes>"
      ]
     },
     "metadata": {
      "needs_background": "light"
     },
     "output_type": "display_data"
    }
   ],
   "source": [
    "plt.imshow(attention_masks[1].numpy())"
   ]
  },
  {
   "cell_type": "code",
   "execution_count": 131,
   "metadata": {},
   "outputs": [
    {
     "name": "stdout",
     "output_type": "stream",
     "text": [
      "tensor([[  0,  86, 313],\n",
      "        [  0,  86, 314],\n",
      "        [  0,  86, 315],\n",
      "        [  0,  87, 304],\n",
      "        [  0,  87, 305],\n",
      "        [  0,  87, 310],\n",
      "        [  0,  87, 311],\n",
      "        [  0,  87, 312],\n",
      "        [  0,  87, 313],\n",
      "        [  0,  87, 314],\n",
      "        [  0,  87, 315],\n",
      "        [  0,  87, 316],\n",
      "        [  0,  87, 317],\n",
      "        [  0,  88, 303],\n",
      "        [  0,  88, 304],\n",
      "        [  0,  88, 305],\n",
      "        [  0,  88, 306],\n",
      "        [  0,  88, 307],\n",
      "        [  0,  88, 308],\n",
      "        [  0,  88, 309],\n",
      "        [  0,  88, 310],\n",
      "        [  0,  88, 311],\n",
      "        [  0,  88, 312],\n",
      "        [  0,  88, 313],\n",
      "        [  0,  88, 314],\n",
      "        [  0,  88, 315],\n",
      "        [  0,  88, 316],\n",
      "        [  0,  88, 317],\n",
      "        [  0,  88, 318],\n",
      "        [  0,  89, 303],\n",
      "        [  0,  89, 304],\n",
      "        [  0,  89, 305],\n",
      "        [  0,  89, 306],\n",
      "        [  0,  89, 307],\n",
      "        [  0,  89, 308],\n",
      "        [  0,  89, 309],\n",
      "        [  0,  89, 310],\n",
      "        [  0,  89, 311],\n",
      "        [  0,  89, 312],\n",
      "        [  0,  89, 313],\n",
      "        [  0,  89, 314],\n",
      "        [  0,  89, 315],\n",
      "        [  0,  89, 316],\n",
      "        [  0,  89, 317],\n",
      "        [  0,  89, 318],\n",
      "        [  0,  89, 319],\n",
      "        [  0,  90, 304],\n",
      "        [  0,  90, 305],\n",
      "        [  0,  90, 306],\n",
      "        [  0,  90, 307],\n",
      "        [  0,  90, 308],\n",
      "        [  0,  90, 309],\n",
      "        [  0,  90, 310],\n",
      "        [  0,  90, 311],\n",
      "        [  0,  90, 312],\n",
      "        [  0,  90, 313],\n",
      "        [  0,  90, 314],\n",
      "        [  0,  90, 315],\n",
      "        [  0,  90, 316],\n",
      "        [  0,  90, 317],\n",
      "        [  0,  90, 318],\n",
      "        [  0,  90, 319],\n",
      "        [  0,  90, 320],\n",
      "        [  0,  91, 305],\n",
      "        [  0,  91, 306],\n",
      "        [  0,  91, 307],\n",
      "        [  0,  91, 308],\n",
      "        [  0,  91, 309],\n",
      "        [  0,  91, 310],\n",
      "        [  0,  91, 311],\n",
      "        [  0,  91, 312],\n",
      "        [  0,  91, 313],\n",
      "        [  0,  91, 314],\n",
      "        [  0,  91, 315],\n",
      "        [  0,  91, 316],\n",
      "        [  0,  91, 317],\n",
      "        [  0,  91, 318],\n",
      "        [  0,  91, 319],\n",
      "        [  0,  91, 320],\n",
      "        [  0,  91, 321],\n",
      "        [  0,  92, 305],\n",
      "        [  0,  92, 306],\n",
      "        [  0,  92, 307],\n",
      "        [  0,  92, 308],\n",
      "        [  0,  92, 309],\n",
      "        [  0,  92, 310],\n",
      "        [  0,  92, 311],\n",
      "        [  0,  92, 312],\n",
      "        [  0,  92, 313],\n",
      "        [  0,  92, 314],\n",
      "        [  0,  92, 315],\n",
      "        [  0,  92, 316],\n",
      "        [  0,  92, 317],\n",
      "        [  0,  92, 318],\n",
      "        [  0,  92, 319],\n",
      "        [  0,  92, 320],\n",
      "        [  0,  92, 321],\n",
      "        [  0,  93, 305],\n",
      "        [  0,  93, 306],\n",
      "        [  0,  93, 307],\n",
      "        [  0,  93, 308],\n",
      "        [  0,  93, 309],\n",
      "        [  0,  93, 310],\n",
      "        [  0,  93, 311],\n",
      "        [  0,  93, 312],\n",
      "        [  0,  93, 313],\n",
      "        [  0,  93, 314],\n",
      "        [  0,  93, 315],\n",
      "        [  0,  93, 316],\n",
      "        [  0,  93, 317],\n",
      "        [  0,  93, 318],\n",
      "        [  0,  93, 319],\n",
      "        [  0,  93, 320],\n",
      "        [  0,  94, 305],\n",
      "        [  0,  94, 306],\n",
      "        [  0,  94, 307],\n",
      "        [  0,  94, 308],\n",
      "        [  0,  94, 309],\n",
      "        [  0,  94, 310],\n",
      "        [  0,  94, 311],\n",
      "        [  0,  94, 312],\n",
      "        [  0,  94, 313],\n",
      "        [  0,  94, 314],\n",
      "        [  0,  94, 315],\n",
      "        [  0,  94, 316],\n",
      "        [  0,  94, 317],\n",
      "        [  0,  94, 318],\n",
      "        [  0,  94, 319],\n",
      "        [  0,  95, 305],\n",
      "        [  0,  95, 306],\n",
      "        [  0,  95, 307],\n",
      "        [  0,  95, 308],\n",
      "        [  0,  95, 309],\n",
      "        [  0,  95, 310],\n",
      "        [  0,  95, 311],\n",
      "        [  0,  95, 312],\n",
      "        [  0,  95, 313],\n",
      "        [  0,  95, 314],\n",
      "        [  0,  95, 315],\n",
      "        [  0,  95, 316],\n",
      "        [  0,  95, 317],\n",
      "        [  0,  95, 318],\n",
      "        [  0,  96, 306],\n",
      "        [  0,  96, 307],\n",
      "        [  0,  96, 308],\n",
      "        [  0,  96, 309],\n",
      "        [  0,  96, 310],\n",
      "        [  0,  96, 311],\n",
      "        [  0,  96, 312],\n",
      "        [  0,  96, 313],\n",
      "        [  0,  96, 314],\n",
      "        [  0,  96, 315],\n",
      "        [  0,  96, 316],\n",
      "        [  0,  97, 308],\n",
      "        [  0,  97, 309],\n",
      "        [  0,  97, 310],\n",
      "        [  0,  97, 311],\n",
      "        [  0,  97, 312],\n",
      "        [  0,  97, 313],\n",
      "        [  0,  97, 314],\n",
      "        [  0,  97, 315],\n",
      "        [  1,  87, 304],\n",
      "        [  1,  88, 303],\n",
      "        [  1,  88, 304],\n",
      "        [  1,  89, 303],\n",
      "        [  1,  89, 304],\n",
      "        [  1,  89, 305],\n",
      "        [  1,  90, 304],\n",
      "        [  1,  90, 305],\n",
      "        [  1,  90, 306],\n",
      "        [  1,  91, 305],\n",
      "        [  1,  91, 306],\n",
      "        [  1,  92, 305],\n",
      "        [  1,  92, 306],\n",
      "        [  1,  93, 305],\n",
      "        [  1,  93, 306],\n",
      "        [  1,  94, 305],\n",
      "        [  1,  94, 306],\n",
      "        [  1,  95, 305],\n",
      "        [  1,  95, 306],\n",
      "        [  1,  96, 306]])\n"
     ]
    }
   ],
   "source": [
    "# torch.eq( ( attention_masks[0], attention_masks[0] ), ( attention_masks[1], attention_masks[1]  ))\n",
    "\n",
    "a = torch.stack((attention_masks[1], attention_masks[1], attention_masks[1], attention_masks[1] ))\n",
    "b = torch.stack((attention_masks[12], attention_masks[16], attention_masks[3], attention_masks[4] ))\n",
    "\n",
    "# [12, 16, 22, 23, 27, 29, 1]\n",
    "oo= torch.eq(a, b)\n",
    "\n",
    "# count how many pixels ovelap there is between the two images\n",
    "count_overlap_pixel = (oo == True).nonzero()\n",
    "print(count_overlap_pixel)\n",
    "\n",
    "# # find which other tensors are overlapping\n",
    "# count_overlap_pixel[:,0].unique()\n"
   ]
  },
  {
   "cell_type": "code",
   "execution_count": 7,
   "metadata": {},
   "outputs": [],
   "source": [
    "def find_overlapping_tensors(current_tensor, other_tensors):\n",
    "\n",
    "# remove current tensor from other tensors because you don't want to compare with yourself\n",
    "\n",
    "\n",
    "#     other_tensors = np.setdiff1d(other_tensors,current_tensor)\n",
    "#     print(\"OTHER\", other_tensors)\n",
    "# current_tensor = 1\n",
    "# other_tensors = [ 1,  2,  3,  4,  5,  6,  7,  8,  9, 10, 11, 12, 13 ,14, 15, 16, 17 ,18 ,19, 20, 21, 22, 23, 24,25, 26, 27, 28, 29,]\n",
    "\n",
    "    a = torch.zeros(size = (len(other_tensors), 192, 640))\n",
    "    b = torch.zeros(size = (len(other_tensors), 192, 640))\n",
    "\n",
    "    for x in range(len(other_tensors)):\n",
    "    #     print(other_tensors[x])\n",
    "        # stack one tensor with only the current tensor\n",
    "        a[x] = attention_masks[current_tensor]\n",
    "\n",
    "        # stack other tensor with the tensors you want the current tensor to compare with\n",
    "        b[x] = attention_masks[other_tensors[x]]\n",
    "\n",
    "    # now compare\n",
    "    oo= torch.eq(a, b)\n",
    "\n",
    "    # count how many pixels ovelap there is between the two images\n",
    "    count_overlap_pixel = (oo == True).nonzero()\n",
    "\n",
    "    # find which other tensors are overlapping\n",
    "    overlappers = np.array(count_overlap_pixel[:,0].unique())\n",
    "    other_tensors = np.array(other_tensors)\n",
    "\n",
    "    # select correct overlapping tensors\n",
    "    overlapping_tensors = other_tensors[overlappers]\n",
    "\n",
    "    return overlapping_tensors   "
   ]
  },
  {
   "cell_type": "code",
   "execution_count": 50,
   "metadata": {
    "scrolled": false
   },
   "outputs": [
    {
     "name": "stdout",
     "output_type": "stream",
     "text": [
      "37.069939374923706\n"
     ]
    }
   ],
   "source": [
    "\n",
    "# loop through 30 masks\n",
    "\n",
    "# print(loop_list)\n",
    "\n",
    "start = time.time()\n",
    "for x in range(100):\n",
    "    all_masks_loop_list = np.arange(0, attention_masks.shape[0])\n",
    "    final_masks = []\n",
    "\n",
    "    while len(all_masks_loop_list) > 0:\n",
    "\n",
    "        # pick random mask from list\n",
    "    #     print(\"@@@@@\", all_masks_loop_list)\n",
    "        m = np.random.choice(all_masks_loop_list)\n",
    "    #     print(m)\n",
    "\n",
    "        current_mask = attention_masks[m]\n",
    "\n",
    "        # all masks which are available\n",
    "        other_masks = all_masks_loop_list\n",
    "\n",
    "        # find which masks are all overlapping which current mask.\n",
    "        overlapping_masks = find_overlapping_tensors(m, other_masks)\n",
    "    #     print('overlapp',overlapping_masks)\n",
    "\n",
    "        # pick randomly 1 mask of the overlapping masks. And keep that mask. remove all the others\n",
    "    #     c = np.random.choice(overlapping_masks)\n",
    "    #     print(\"c\", c)\n",
    "        # add the current mask to the final masks\n",
    "        final_masks.append(m)\n",
    "\n",
    "    #         # remove all the other masks since they overlap at least with 1 mask\n",
    "        all_masks_loop_list = np.setdiff1d(all_masks_loop_list, overlapping_masks)\n",
    "        all_masks_loop_list = np.setdiff1d(all_masks_loop_list, m)\n",
    "\n",
    "\n",
    "#     print(\"------------\")\n",
    "#     print(final_masks)\n",
    "\n",
    "    \n",
    "#     for mask in final_masks:\n",
    "\n",
    "#         overlap = find_overlapping_tensors(mask, final_masks)\n",
    "#         assert len(overlap) == 1, \"there are still overlapping values\"\n",
    "\n",
    "duration = time.time() - start\n",
    "print(duration)"
   ]
  },
  {
   "cell_type": "code",
   "execution_count": 219,
   "metadata": {},
   "outputs": [
    {
     "data": {
      "text/plain": [
       "array([30])"
      ]
     },
     "execution_count": 219,
     "metadata": {},
     "output_type": "execute_result"
    }
   ],
   "source": [
    "to_delete = np.array([ 1, 12, 16, 22, 23, 27, 29])\n",
    "from_list = np.array([1, 12, 16, 22, 23, 27, 29, 30])\n",
    "\n",
    "a = np.setdiff1d(from_list, to_delete)\n",
    "a\n",
    "# end = np.delete(from_list, to_delete)"
   ]
  },
  {
   "cell_type": "code",
   "execution_count": 504,
   "metadata": {},
   "outputs": [
    {
     "name": "stdout",
     "output_type": "stream",
     "text": [
      "torch.Size([192, 640])\n",
      "tensor([[ 0.,  0.,  3.,  ...,  0.,  0.,  0.],\n",
      "        [ 0.,  0.,  3.,  ...,  0.,  0.,  0.],\n",
      "        [ 3., 10.,  3.,  ...,  0.,  0.,  0.],\n",
      "        ...,\n",
      "        [ 0.,  0.,  0.,  ...,  0.,  0.,  0.],\n",
      "        [ 0.,  0.,  0.,  ...,  0.,  0.,  0.],\n",
      "        [ 0.,  0.,  0.,  ...,  0.,  0.,  0.]])\n"
     ]
    }
   ],
   "source": [
    "M = torch.zeros(size = (attention_masks.size(1), attention_masks.size(2) ))\n",
    "print(M.shape)\n",
    "\n",
    "vectorized_attention_maps = attention_masks.view(attention_masks.size()[0], attention_masks.size()[1] * attention_masks.size()[2])\n",
    "\n",
    "\n",
    "vectorized_attention_maps = torch.transpose(vectorized_attention_maps, 1 ,0)\n",
    "vectorized_attention_maps.shape\n",
    "\n",
    "# per pixel telling how much overlapping maps there are\n",
    "sum_row = vectorized_attention_maps.sum(-1)\n",
    "\n",
    "# # dit zijn in welke regels de row sum > 1 is tensor([1, 4, 5])\n",
    "row_overlapping_maps = (sum_row > 1).nonzero()\n",
    "row_overlapping_maps.shape\n",
    "\n",
    "choices = pick_attention_maps(vectorized_attention_maps, row_overlapping_maps)\n",
    "# print(choices)\n",
    "\n",
    "# print(row_overlapping_maps)\n",
    "\n",
    "# calculate in which index places the choices should come\n",
    "row, colum = decide_index_value(row_overlapping_maps, M)\n",
    "\n",
    "# assign choices to M matrix\n",
    "for c in range(len(choices)):\n",
    "    M [row[c][0]] [colum[c][0]] = int(choices[c])\n",
    "    \n",
    "    \n",
    "print(M)\n",
    "\n",
    "\n",
    "\n",
    "# attention_masks"
   ]
  },
  {
   "cell_type": "code",
   "execution_count": 508,
   "metadata": {},
   "outputs": [
    {
     "data": {
      "image/png": "[encoded data removed]",
      "text/plain": [
       "<Figure size 432x288 with 1 Axes>"
      ]
     },
     "metadata": {
      "needs_background": "light"
     },
     "output_type": "display_data"
    }
   ],
   "source": [
    "\n",
    "mask_idx = int(M[191, 639].item())\n",
    "plt.imshow(attention_masks[mask_idx].numpy())\n",
    "plt.title('Mask idx %i'% mask_idx)\n",
    "plt.show()"
   ]
  },
  {
   "cell_type": "code",
   "execution_count": 475,
   "metadata": {},
   "outputs": [
    {
     "data": {
      "image/png": "[encoded data removed]",
      "text/plain": [
       "<Figure size 432x288 with 1 Axes>"
      ]
     },
     "metadata": {
      "needs_background": "light"
     },
     "output_type": "display_data"
    }
   ],
   "source": [
    "# plt.imshow(sample[('color_aug', 0, 0)].permute(1, 2, 0))\n",
    "# plt.show()\n",
    "plt.imshow(sample['attention'][22], cmap = 'cividis')\n",
    "plt.show()\n",
    "\n",
    "# for attention_mask in sample['attention']:\n",
    "#     print(attention_mask[0, 0])\n",
    "#     plt.imshow(attention_mask, cmap='cividis')\n",
    "#     plt.show()"
   ]
  },
  {
   "cell_type": "code",
   "execution_count": 617,
   "metadata": {
    "scrolled": false
   },
   "outputs": [
    {
     "name": "stdout",
     "output_type": "stream",
     "text": [
      "tensor([[1, 0, 0],\n",
      "        [0, 0, 0],\n",
      "        [0, 0, 1],\n",
      "        [1, 0, 1],\n",
      "        [1, 1, 1],\n",
      "        [1, 0, 0]])\n",
      "tensor([[3],\n",
      "        [4]])\n",
      "tensor([[0, 0],\n",
      "        [0, 2],\n",
      "        [1, 0],\n",
      "        [1, 1],\n",
      "        [1, 2]])\n",
      "batch selection tensor([0, 2, 0, 1, 2])\n",
      "SPLITTT [2, 3]\n",
      "[tensor([0, 2]) tensor([0, 1, 2])]\n",
      "tensor([0, 2])\n",
      "chooice 2\n"
     ]
    }
   ],
   "source": [
    "# batch_size = 1\n",
    "\n",
    "\n",
    "attention_maps = torch.randint(low = 0, high = 2, size = (3, 2, 3))\n",
    "# print(attention_maps)\n",
    "M = torch.zeros(size = (attention_maps.size(1), attention_maps.size(2) ))\n",
    "# print(M.shape)\n",
    "# print(attention_maps)\n",
    "\n",
    "vectorized_attention_maps = attention_maps.view(attention_maps.size()[0], attention_maps.size()[1] * attention_maps.size()[2])\n",
    "# print(vectorized_attention_maps.shape)\n",
    "vectorized_attention_maps = torch.transpose(vectorized_attention_maps, 1 ,0)\n",
    "\n",
    "sum_row = vectorized_attention_maps.sum(-1)\n",
    "# print(sum_row)\n",
    "\n",
    "# # dit zijn in welke regels de row sum > 1 is tensor([1, 4, 5])\n",
    "# dus voor welke pixels er overlapping maps zijn\n",
    "row_overlapping_maps = (sum_row > 1).nonzero()\n",
    "\n",
    "# print(row_overlapping_maps)\n",
    "choices = pick_attention_maps(vectorized_attention_maps, row_overlapping_maps)\n",
    "# print(choices)\n",
    "\n",
    "# print(row_overlapping_maps)\n",
    "\n",
    "# calculate in which index places the choices should come\n",
    "# row, colum = decide_index_value(row_overlapping_maps, M)\n",
    "\n",
    "# # assign choices to M matrix\n",
    "# for c in range(len(choices)):\n",
    "#     M [row[c][0]] [colum[c][0]] = int(choices[c])\n",
    "    \n",
    "    \n",
    "# print(M)\n"
   ]
  },
  {
   "cell_type": "code",
   "execution_count": 612,
   "metadata": {},
   "outputs": [],
   "source": [
    "def pick_attention_maps(vectorized_attention_maps, row_overlapping_maps):\n",
    "    print(vectorized_attention_maps)\n",
    "    print(row_overlapping_maps)\n",
    "    a = vectorized_attention_maps[row_overlapping_maps]\n",
    "    a = a.squeeze(1)\n",
    "\n",
    "    # from every row where there are overlapping maps, it tells which are overlapping maps. \n",
    "    options = torch.nonzero(a)\n",
    "    print(options)\n",
    "\n",
    "#     #  select second dimension\n",
    "    batch_selection = options[:, 1]\n",
    "    print(\"batch selection\", batch_selection)\n",
    "    batch_numbers = options[:, 0]\n",
    "\n",
    "    splitt = get_split_numbers(batch_numbers)\n",
    "    print(\"SPLITTT\", splitt)\n",
    "    \n",
    "    row_selection = torch.split(batch_selection, splitt)\n",
    "#     row_selection = np.split(np.array(batch_selection), splitt)\n",
    "    \n",
    "    row_selection = np.asarray(row_selection, tuple)\n",
    "    print(row_selection)\n",
    "    print(row_selection[0])\n",
    "#     print(type(row_selection))\n",
    "    choooicc = np.random.choice(row_selection[0])\n",
    "    print(\"chooice\", choooicc)\n",
    "#     for r in row_selection:\n",
    "#         print(r)\n",
    "#         print(type(r))\n",
    "        \n",
    "        \n",
    "#     print(type(row_selection))\n",
    "#     row_selection = np.asarray(row_selection)\n",
    "    \n",
    "# #     print(type(row_selection))\n",
    "# #     print(\"row selection\", row_selection)\n",
    "#     choices = []\n",
    "#     for r in row_selection:\n",
    "#         r = np.array(r)\n",
    "#         choices.append(np.random.choice(r))\n",
    "\n",
    "    return None\n",
    "# # print(choices)"
   ]
  },
  {
   "cell_type": "code",
   "execution_count": 464,
   "metadata": {},
   "outputs": [],
   "source": [
    "def decide_index_value(row_overlapping_maps, M):\n",
    "\n",
    "    row_overlapping_maps = np.array(row_overlapping_maps)\n",
    "    row_index = np.floor_divide(row_overlapping_maps, M.shape[1]) \n",
    "    col_index = row_overlapping_maps % M.shape[1]\n",
    "\n",
    "    \n",
    "    return list(row_index), list(col_index)\n",
    "    "
   ]
  },
  {
   "cell_type": "code",
   "execution_count": 116,
   "metadata": {},
   "outputs": [],
   "source": [
    "def get_split_numbers(batch_numbers):\n",
    "    \n",
    "#     print(\"batch_numbers\", batch_numbers)\n",
    "    \n",
    "    \n",
    "    split_numbers = []\n",
    "\n",
    "    # split the row overlapping maps in batches\n",
    "    for b in batch_numbers.unique():\n",
    "\n",
    "    #         where to split the row overlapping maps in batches\n",
    "        if split_numbers == []:\n",
    "            \n",
    "#             print((batch_numbers == b).nonzero())\n",
    "            \n",
    "            # +1 because it works with len()\n",
    "            split_numbers.append((batch_numbers == b).nonzero()[-1].item() + 1)\n",
    "\n",
    "        else:\n",
    "#             print(\"SPLIT NUMBERS\", split_numbers)\n",
    "#             print(\"@@@\", (batch_numbers == b).nonzero()[-1].item())\n",
    "            number = (batch_numbers == b).nonzero()[-1].item() + 1\n",
    "\n",
    "            split_numbers.append(number - sum(split_numbers))\n",
    "            \n",
    "    return split_numbers\n",
    "    "
   ]
  },
  {
   "cell_type": "code",
   "execution_count": null,
   "metadata": {},
   "outputs": [],
   "source": []
  },
  {
   "cell_type": "code",
   "execution_count": null,
   "metadata": {},
   "outputs": [],
   "source": []
  },
  {
   "cell_type": "code",
   "execution_count": null,
   "metadata": {},
   "outputs": [],
   "source": []
  },
  {
   "cell_type": "code",
   "execution_count": null,
   "metadata": {},
   "outputs": [],
   "source": []
  },
  {
   "cell_type": "code",
   "execution_count": null,
   "metadata": {},
   "outputs": [],
   "source": []
  },
  {
   "cell_type": "code",
   "execution_count": null,
   "metadata": {},
   "outputs": [],
   "source": []
  },
  {
   "cell_type": "code",
   "execution_count": null,
   "metadata": {},
   "outputs": [],
   "source": []
  },
  {
   "cell_type": "code",
   "execution_count": 21,
   "metadata": {},
   "outputs": [],
   "source": [
    "def get_attention_mask_per_pixel_in_matrix(attention_masks):\n",
    "    M = torch.zeros(attention_masks.shape[1:])\n",
    "    for row_idx in range(M.shape[0]):\n",
    "        for col_idx in range(M.shape[1]):\n",
    "            attention_values = attention_masks[:, row_idx, col_idx]\n",
    "            \n",
    "            active_masks = (attention_values != 0).nonzero().reshape(-1)\n",
    "            if active_masks.shape[0] > 0:\n",
    "                active_mask = np.random.choice(active_masks.numpy())\n",
    "            else:\n",
    "                active_mask = -1\n",
    "            M[row_idx, col_idx] = active_mask\n",
    "    return M"
   ]
  },
  {
   "cell_type": "code",
   "execution_count": 23,
   "metadata": {},
   "outputs": [
    {
     "ename": "TypeError",
     "evalue": "can't assign a numpy.int64 to a torch.FloatTensor",
     "output_type": "error",
     "traceback": [
      "\u001b[1;31m---------------------------------------------------------------------------\u001b[0m",
      "\u001b[1;31mTypeError\u001b[0m                                 Traceback (most recent call last)",
      "\u001b[1;32m<ipython-input-23-7b945717a286>\u001b[0m in \u001b[0;36m<module>\u001b[1;34m\u001b[0m\n\u001b[1;32m----> 1\u001b[1;33m \u001b[0mM\u001b[0m \u001b[1;33m=\u001b[0m \u001b[0mget_attention_mask_per_pixel_in_matrix\u001b[0m\u001b[1;33m(\u001b[0m\u001b[0msample\u001b[0m\u001b[1;33m[\u001b[0m\u001b[1;34m'attention'\u001b[0m\u001b[1;33m]\u001b[0m\u001b[1;33m)\u001b[0m\u001b[1;33m\u001b[0m\u001b[1;33m\u001b[0m\u001b[0m\n\u001b[0m",
      "\u001b[1;32m<ipython-input-21-be1f2146c9b6>\u001b[0m in \u001b[0;36mget_attention_mask_per_pixel_in_matrix\u001b[1;34m(attention_masks)\u001b[0m\n\u001b[0;32m     10\u001b[0m             \u001b[1;32melse\u001b[0m\u001b[1;33m:\u001b[0m\u001b[1;33m\u001b[0m\u001b[1;33m\u001b[0m\u001b[0m\n\u001b[0;32m     11\u001b[0m                 \u001b[0mactive_mask\u001b[0m \u001b[1;33m=\u001b[0m \u001b[1;33m-\u001b[0m\u001b[1;36m1\u001b[0m\u001b[1;33m\u001b[0m\u001b[1;33m\u001b[0m\u001b[0m\n\u001b[1;32m---> 12\u001b[1;33m             \u001b[0mM\u001b[0m\u001b[1;33m[\u001b[0m\u001b[0mrow_idx\u001b[0m\u001b[1;33m,\u001b[0m \u001b[0mcol_idx\u001b[0m\u001b[1;33m]\u001b[0m \u001b[1;33m=\u001b[0m \u001b[0mactive_mask\u001b[0m\u001b[1;33m\u001b[0m\u001b[1;33m\u001b[0m\u001b[0m\n\u001b[0m\u001b[0;32m     13\u001b[0m     \u001b[1;32mreturn\u001b[0m \u001b[0mM\u001b[0m\u001b[1;33m\u001b[0m\u001b[1;33m\u001b[0m\u001b[0m\n",
      "\u001b[1;31mTypeError\u001b[0m: can't assign a numpy.int64 to a torch.FloatTensor"
     ]
    }
   ],
   "source": [
    "M = get_attention_mask_per_pixel_in_matrix(sample['attention'])"
   ]
  },
  {
   "cell_type": "code",
   "execution_count": 25,
   "metadata": {},
   "outputs": [
    {
     "ename": "NameError",
     "evalue": "name 'M' is not defined",
     "output_type": "error",
     "traceback": [
      "\u001b[1;31m---------------------------------------------------------------------------\u001b[0m",
      "\u001b[1;31mNameError\u001b[0m                                 Traceback (most recent call last)",
      "\u001b[1;32m<ipython-input-25-67f865572a8b>\u001b[0m in \u001b[0;36m<module>\u001b[1;34m\u001b[0m\n\u001b[1;32m----> 1\u001b[1;33m \u001b[0mmask_idx\u001b[0m \u001b[1;33m=\u001b[0m \u001b[0mint\u001b[0m\u001b[1;33m(\u001b[0m\u001b[0mM\u001b[0m\u001b[1;33m[\u001b[0m\u001b[1;36m190\u001b[0m\u001b[1;33m,\u001b[0m \u001b[1;36m300\u001b[0m\u001b[1;33m]\u001b[0m\u001b[1;33m.\u001b[0m\u001b[0mitem\u001b[0m\u001b[1;33m(\u001b[0m\u001b[1;33m)\u001b[0m\u001b[1;33m)\u001b[0m\u001b[1;33m\u001b[0m\u001b[1;33m\u001b[0m\u001b[0m\n\u001b[0m\u001b[0;32m      2\u001b[0m \u001b[0mplt\u001b[0m\u001b[1;33m.\u001b[0m\u001b[0mimshow\u001b[0m\u001b[1;33m(\u001b[0m\u001b[0mattention_masks\u001b[0m\u001b[1;33m[\u001b[0m\u001b[0mmask_idx\u001b[0m\u001b[1;33m]\u001b[0m\u001b[1;33m.\u001b[0m\u001b[0mnumpy\u001b[0m\u001b[1;33m(\u001b[0m\u001b[1;33m)\u001b[0m\u001b[1;33m)\u001b[0m\u001b[1;33m\u001b[0m\u001b[1;33m\u001b[0m\u001b[0m\n\u001b[0;32m      3\u001b[0m \u001b[0mplt\u001b[0m\u001b[1;33m.\u001b[0m\u001b[0mtitle\u001b[0m\u001b[1;33m(\u001b[0m\u001b[1;34m'Mask idx %i'\u001b[0m\u001b[1;33m%\u001b[0m \u001b[0mmask_idx\u001b[0m\u001b[1;33m)\u001b[0m\u001b[1;33m\u001b[0m\u001b[1;33m\u001b[0m\u001b[0m\n\u001b[0;32m      4\u001b[0m \u001b[0mplt\u001b[0m\u001b[1;33m.\u001b[0m\u001b[0mshow\u001b[0m\u001b[1;33m(\u001b[0m\u001b[1;33m)\u001b[0m\u001b[1;33m\u001b[0m\u001b[1;33m\u001b[0m\u001b[0m\n",
      "\u001b[1;31mNameError\u001b[0m: name 'M' is not defined"
     ]
    }
   ],
   "source": []
  },
  {
   "cell_type": "code",
   "execution_count": 26,
   "metadata": {},
   "outputs": [
    {
     "ename": "SyntaxError",
     "evalue": "invalid syntax (<ipython-input-26-1f3724cb8cb9>, line 1)",
     "output_type": "error",
     "traceback": [
      "\u001b[1;36m  File \u001b[1;32m\"<ipython-input-26-1f3724cb8cb9>\"\u001b[1;36m, line \u001b[1;32m1\u001b[0m\n\u001b[1;33m    print(attention_masks[])\u001b[0m\n\u001b[1;37m                          ^\u001b[0m\n\u001b[1;31mSyntaxError\u001b[0m\u001b[1;31m:\u001b[0m invalid syntax\n"
     ]
    }
   ],
   "source": [
    "print(attention_masks[])"
   ]
  },
  {
   "cell_type": "code",
   "execution_count": null,
   "metadata": {},
   "outputs": [],
   "source": []
  },
  {
   "cell_type": "code",
   "execution_count": null,
   "metadata": {},
   "outputs": [],
   "source": []
  },
  {
   "cell_type": "code",
   "execution_count": null,
   "metadata": {},
   "outputs": [],
   "source": []
  },
  {
   "cell_type": "code",
   "execution_count": null,
   "metadata": {},
   "outputs": [],
   "source": []
  }
 ],
 "metadata": {
  "kernelspec": {
   "display_name": "Python 3",
   "language": "python",
   "name": "python3"
  },
  "language_info": {
   "codemirror_mode": {
    "name": "ipython",
    "version": 3
   },
   "file_extension": ".py",
   "mimetype": "text/x-python",
   "name": "python",
   "nbconvert_exporter": "python",
   "pygments_lexer": "ipython3",
   "version": "3.7.9"
  }
 },
 "nbformat": 4,
 "nbformat_minor": 4
}
