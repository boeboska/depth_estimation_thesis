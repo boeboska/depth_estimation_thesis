{
 "cells": [
  {
   "cell_type": "code",
   "execution_count": 32,
   "id": "compressed-excess",
   "metadata": {},
   "outputs": [
    {
     "name": "stdout",
     "output_type": "stream",
     "text": [
      "D:\\depth_estimation_thesis\\Self-supervised-Monocular-Trained-Depth-Estimation-using-Self-attention-and-Discrete-Disparity-Volum\n"
     ]
    }
   ],
   "source": [
    "f = open(\"splits/eigen_zhou/train_files.txt\", \"r\")\n",
    "\n",
    "\n",
    "# text_file = open(\"splits/eigen_zhou/train_files_small.txt\", \"w\")\n",
    "text_file = open(\"aaaaaa.txt\", \"w\")\n",
    "\n",
    "# text_file.write(\"Purchase Amount: %s\" % TotalAmount)\n",
    "# text_file.close()\n",
    "\n",
    "\n",
    "# with open(\"splits/eigen_zhou/train_files_small.txt\", \"w\") as text_file:\n",
    "    \n",
    "limit = int(39810 * 0.2)\n",
    "count = 0\n",
    "for row in f:    \n",
    "    count +=1\n",
    "\n",
    "    if count < limit:\n",
    "\n",
    "        text_file.write(row)\n",
    "text_file.close()\n",
    "\n",
    "import os\n",
    "cwd = os.getcwd()\n",
    "print(cwd)"
   ]
  },
  {
   "cell_type": "code",
   "execution_count": null,
   "id": "direct-running",
   "metadata": {},
   "outputs": [],
   "source": []
  }
 ],
 "metadata": {
  "kernelspec": {
   "display_name": "Python 3",
   "language": "python",
   "name": "python3"
  },
  "language_info": {
   "codemirror_mode": {
    "name": "ipython",
    "version": 3
   },
   "file_extension": ".py",
   "mimetype": "text/x-python",
   "name": "python",
   "nbconvert_exporter": "python",
   "pygments_lexer": "ipython3",
   "version": "3.7.9"
  }
 },
 "nbformat": 4,
 "nbformat_minor": 5
}
